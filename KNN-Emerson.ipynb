{
 "cells": [
  {
   "cell_type": "code",
   "execution_count": 44,
   "metadata": {},
   "outputs": [],
   "source": [
    "# Importando as bibliotecas necessárias\n",
    "import pandas as pd\n",
    "import numpy as np\n",
    "from sklearn.neighbors import KNeighborsClassifier\n",
    "from sklearn.metrics import classification_report\n",
    "from sklearn.model_selection import train_test_split\n",
    "from sklearn.metrics import roc_auc_score\n",
    "from sklearn.model_selection import GridSearchCV\n",
    "import matplotlib.pyplot as plt\n",
    "import seaborn as sns"
   ]
  },
  {
   "cell_type": "code",
   "execution_count": 45,
   "metadata": {},
   "outputs": [
    {
     "data": {
      "text/html": [
       "<div>\n",
       "<style scoped>\n",
       "    .dataframe tbody tr th:only-of-type {\n",
       "        vertical-align: middle;\n",
       "    }\n",
       "\n",
       "    .dataframe tbody tr th {\n",
       "        vertical-align: top;\n",
       "    }\n",
       "\n",
       "    .dataframe thead th {\n",
       "        text-align: right;\n",
       "    }\n",
       "</style>\n",
       "<table border=\"1\" class=\"dataframe\">\n",
       "  <thead>\n",
       "    <tr style=\"text-align: right;\">\n",
       "      <th></th>\n",
       "      <th>total_posts</th>\n",
       "      <th>helpful_post</th>\n",
       "      <th>nice_code_post</th>\n",
       "      <th>collaborative_post</th>\n",
       "      <th>confused_post</th>\n",
       "      <th>creative_post</th>\n",
       "      <th>bad_post</th>\n",
       "      <th>amazing_post</th>\n",
       "      <th>timeonline</th>\n",
       "      <th>sk1_classroom</th>\n",
       "      <th>sk2_classroom</th>\n",
       "      <th>sk5_classroom</th>\n",
       "      <th>sk3_classroom</th>\n",
       "      <th>sk4_classroom</th>\n",
       "      <th>Approved</th>\n",
       "    </tr>\n",
       "  </thead>\n",
       "  <tbody>\n",
       "    <tr>\n",
       "      <th>0</th>\n",
       "      <td>1</td>\n",
       "      <td>0</td>\n",
       "      <td>0</td>\n",
       "      <td>0</td>\n",
       "      <td>0</td>\n",
       "      <td>6</td>\n",
       "      <td>0</td>\n",
       "      <td>1</td>\n",
       "      <td>1600</td>\n",
       "      <td>2.1</td>\n",
       "      <td>2.4</td>\n",
       "      <td>3.5</td>\n",
       "      <td>3.6</td>\n",
       "      <td>1.7</td>\n",
       "      <td>0</td>\n",
       "    </tr>\n",
       "    <tr>\n",
       "      <th>1</th>\n",
       "      <td>1</td>\n",
       "      <td>0</td>\n",
       "      <td>0</td>\n",
       "      <td>1</td>\n",
       "      <td>0</td>\n",
       "      <td>2</td>\n",
       "      <td>0</td>\n",
       "      <td>3</td>\n",
       "      <td>592</td>\n",
       "      <td>0.3</td>\n",
       "      <td>0.3</td>\n",
       "      <td>0.0</td>\n",
       "      <td>0.1</td>\n",
       "      <td>0.2</td>\n",
       "      <td>0</td>\n",
       "    </tr>\n",
       "    <tr>\n",
       "      <th>2</th>\n",
       "      <td>2</td>\n",
       "      <td>4</td>\n",
       "      <td>3</td>\n",
       "      <td>9</td>\n",
       "      <td>0</td>\n",
       "      <td>16</td>\n",
       "      <td>1</td>\n",
       "      <td>8</td>\n",
       "      <td>1110</td>\n",
       "      <td>8.0</td>\n",
       "      <td>5.0</td>\n",
       "      <td>5.0</td>\n",
       "      <td>7.0</td>\n",
       "      <td>5.0</td>\n",
       "      <td>1</td>\n",
       "    </tr>\n",
       "    <tr>\n",
       "      <th>3</th>\n",
       "      <td>5</td>\n",
       "      <td>1</td>\n",
       "      <td>3</td>\n",
       "      <td>9</td>\n",
       "      <td>2</td>\n",
       "      <td>11</td>\n",
       "      <td>0</td>\n",
       "      <td>8</td>\n",
       "      <td>8651</td>\n",
       "      <td>6.0</td>\n",
       "      <td>5.0</td>\n",
       "      <td>4.0</td>\n",
       "      <td>6.0</td>\n",
       "      <td>4.0</td>\n",
       "      <td>1</td>\n",
       "    </tr>\n",
       "    <tr>\n",
       "      <th>4</th>\n",
       "      <td>14</td>\n",
       "      <td>6</td>\n",
       "      <td>15</td>\n",
       "      <td>28</td>\n",
       "      <td>0</td>\n",
       "      <td>50</td>\n",
       "      <td>0</td>\n",
       "      <td>45</td>\n",
       "      <td>34172</td>\n",
       "      <td>8.7</td>\n",
       "      <td>9.0</td>\n",
       "      <td>6.5</td>\n",
       "      <td>10.0</td>\n",
       "      <td>8.8</td>\n",
       "      <td>1</td>\n",
       "    </tr>\n",
       "  </tbody>\n",
       "</table>\n",
       "</div>"
      ],
      "text/plain": [
       "   total_posts  helpful_post  nice_code_post  collaborative_post  \\\n",
       "0            1             0               0                   0   \n",
       "1            1             0               0                   1   \n",
       "2            2             4               3                   9   \n",
       "3            5             1               3                   9   \n",
       "4           14             6              15                  28   \n",
       "\n",
       "   confused_post  creative_post  bad_post  amazing_post  timeonline  \\\n",
       "0              0              6         0             1        1600   \n",
       "1              0              2         0             3         592   \n",
       "2              0             16         1             8        1110   \n",
       "3              2             11         0             8        8651   \n",
       "4              0             50         0            45       34172   \n",
       "\n",
       "   sk1_classroom  sk2_classroom  sk5_classroom  sk3_classroom  sk4_classroom  \\\n",
       "0            2.1            2.4            3.5            3.6            1.7   \n",
       "1            0.3            0.3            0.0            0.1            0.2   \n",
       "2            8.0            5.0            5.0            7.0            5.0   \n",
       "3            6.0            5.0            4.0            6.0            4.0   \n",
       "4            8.7            9.0            6.5           10.0            8.8   \n",
       "\n",
       "   Approved  \n",
       "0         0  \n",
       "1         0  \n",
       "2         1  \n",
       "3         1  \n",
       "4         1  "
      ]
     },
     "execution_count": 45,
     "metadata": {},
     "output_type": "execute_result"
    }
   ],
   "source": [
    "df = pd.read_csv('online_classroom_data2.csv', index_col=0, sep=',')\n",
    "df.head()"
   ]
  },
  {
   "cell_type": "code",
   "execution_count": 46,
   "metadata": {},
   "outputs": [
    {
     "name": "stdout",
     "output_type": "stream",
     "text": [
      "<class 'pandas.core.frame.DataFrame'>\n",
      "Int64Index: 71 entries, 0 to 70\n",
      "Data columns (total 15 columns):\n",
      " #   Column              Non-Null Count  Dtype  \n",
      "---  ------              --------------  -----  \n",
      " 0   total_posts         71 non-null     int64  \n",
      " 1   helpful_post        71 non-null     int64  \n",
      " 2   nice_code_post      71 non-null     int64  \n",
      " 3   collaborative_post  71 non-null     int64  \n",
      " 4   confused_post       71 non-null     int64  \n",
      " 5   creative_post       71 non-null     int64  \n",
      " 6   bad_post            71 non-null     int64  \n",
      " 7   amazing_post        71 non-null     int64  \n",
      " 8   timeonline          71 non-null     int64  \n",
      " 9   sk1_classroom       71 non-null     float64\n",
      " 10  sk2_classroom       71 non-null     float64\n",
      " 11  sk5_classroom       71 non-null     float64\n",
      " 12  sk3_classroom       71 non-null     float64\n",
      " 13  sk4_classroom       71 non-null     float64\n",
      " 14  Approved            71 non-null     int64  \n",
      "dtypes: float64(5), int64(10)\n",
      "memory usage: 8.9 KB\n"
     ]
    }
   ],
   "source": [
    "df.info()"
   ]
  },
  {
   "cell_type": "code",
   "execution_count": 47,
   "metadata": {},
   "outputs": [
    {
     "data": {
      "text/plain": [
       "(71, 15)"
      ]
     },
     "execution_count": 47,
     "metadata": {},
     "output_type": "execute_result"
    }
   ],
   "source": [
    "df.shape"
   ]
  },
  {
   "cell_type": "code",
   "execution_count": 48,
   "metadata": {},
   "outputs": [
    {
     "data": {
      "text/plain": [
       "71"
      ]
     },
     "execution_count": 48,
     "metadata": {},
     "output_type": "execute_result"
    }
   ],
   "source": [
    "len(df)"
   ]
  },
  {
   "cell_type": "code",
   "execution_count": 49,
   "metadata": {},
   "outputs": [
    {
     "data": {
      "text/plain": [
       "total_posts           0\n",
       "helpful_post          0\n",
       "nice_code_post        0\n",
       "collaborative_post    0\n",
       "confused_post         0\n",
       "creative_post         0\n",
       "bad_post              0\n",
       "amazing_post          0\n",
       "timeonline            0\n",
       "sk1_classroom         0\n",
       "sk2_classroom         0\n",
       "sk5_classroom         0\n",
       "sk3_classroom         0\n",
       "sk4_classroom         0\n",
       "Approved              0\n",
       "dtype: int64"
      ]
     },
     "execution_count": 49,
     "metadata": {},
     "output_type": "execute_result"
    }
   ],
   "source": [
    "df.isnull().sum()"
   ]
  },
  {
   "cell_type": "code",
   "execution_count": 50,
   "metadata": {},
   "outputs": [
    {
     "data": {
      "text/html": [
       "<div>\n",
       "<style scoped>\n",
       "    .dataframe tbody tr th:only-of-type {\n",
       "        vertical-align: middle;\n",
       "    }\n",
       "\n",
       "    .dataframe tbody tr th {\n",
       "        vertical-align: top;\n",
       "    }\n",
       "\n",
       "    .dataframe thead th {\n",
       "        text-align: right;\n",
       "    }\n",
       "</style>\n",
       "<table border=\"1\" class=\"dataframe\">\n",
       "  <thead>\n",
       "    <tr style=\"text-align: right;\">\n",
       "      <th></th>\n",
       "      <th>count</th>\n",
       "      <th>mean</th>\n",
       "      <th>std</th>\n",
       "      <th>min</th>\n",
       "      <th>25%</th>\n",
       "      <th>50%</th>\n",
       "      <th>75%</th>\n",
       "      <th>max</th>\n",
       "    </tr>\n",
       "  </thead>\n",
       "  <tbody>\n",
       "    <tr>\n",
       "      <th>total_posts</th>\n",
       "      <td>71.0</td>\n",
       "      <td>5.507042</td>\n",
       "      <td>6.480461</td>\n",
       "      <td>0.0</td>\n",
       "      <td>2.00</td>\n",
       "      <td>4.0</td>\n",
       "      <td>7.5</td>\n",
       "      <td>46.0</td>\n",
       "    </tr>\n",
       "    <tr>\n",
       "      <th>helpful_post</th>\n",
       "      <td>71.0</td>\n",
       "      <td>4.028169</td>\n",
       "      <td>6.843082</td>\n",
       "      <td>0.0</td>\n",
       "      <td>0.00</td>\n",
       "      <td>3.0</td>\n",
       "      <td>5.5</td>\n",
       "      <td>53.0</td>\n",
       "    </tr>\n",
       "    <tr>\n",
       "      <th>nice_code_post</th>\n",
       "      <td>71.0</td>\n",
       "      <td>7.478873</td>\n",
       "      <td>12.746831</td>\n",
       "      <td>0.0</td>\n",
       "      <td>0.00</td>\n",
       "      <td>2.0</td>\n",
       "      <td>12.5</td>\n",
       "      <td>90.0</td>\n",
       "    </tr>\n",
       "    <tr>\n",
       "      <th>collaborative_post</th>\n",
       "      <td>71.0</td>\n",
       "      <td>11.366197</td>\n",
       "      <td>13.970622</td>\n",
       "      <td>0.0</td>\n",
       "      <td>1.50</td>\n",
       "      <td>7.0</td>\n",
       "      <td>16.0</td>\n",
       "      <td>89.0</td>\n",
       "    </tr>\n",
       "    <tr>\n",
       "      <th>confused_post</th>\n",
       "      <td>71.0</td>\n",
       "      <td>0.549296</td>\n",
       "      <td>1.350013</td>\n",
       "      <td>0.0</td>\n",
       "      <td>0.00</td>\n",
       "      <td>0.0</td>\n",
       "      <td>0.0</td>\n",
       "      <td>7.0</td>\n",
       "    </tr>\n",
       "    <tr>\n",
       "      <th>creative_post</th>\n",
       "      <td>71.0</td>\n",
       "      <td>18.309859</td>\n",
       "      <td>21.930795</td>\n",
       "      <td>0.0</td>\n",
       "      <td>6.50</td>\n",
       "      <td>14.0</td>\n",
       "      <td>24.0</td>\n",
       "      <td>150.0</td>\n",
       "    </tr>\n",
       "    <tr>\n",
       "      <th>bad_post</th>\n",
       "      <td>71.0</td>\n",
       "      <td>0.056338</td>\n",
       "      <td>0.287219</td>\n",
       "      <td>0.0</td>\n",
       "      <td>0.00</td>\n",
       "      <td>0.0</td>\n",
       "      <td>0.0</td>\n",
       "      <td>2.0</td>\n",
       "    </tr>\n",
       "    <tr>\n",
       "      <th>amazing_post</th>\n",
       "      <td>71.0</td>\n",
       "      <td>18.957746</td>\n",
       "      <td>22.086477</td>\n",
       "      <td>0.0</td>\n",
       "      <td>7.00</td>\n",
       "      <td>16.0</td>\n",
       "      <td>25.5</td>\n",
       "      <td>155.0</td>\n",
       "    </tr>\n",
       "    <tr>\n",
       "      <th>timeonline</th>\n",
       "      <td>71.0</td>\n",
       "      <td>10279.126761</td>\n",
       "      <td>10176.243372</td>\n",
       "      <td>0.0</td>\n",
       "      <td>1627.50</td>\n",
       "      <td>7664.0</td>\n",
       "      <td>16574.0</td>\n",
       "      <td>43612.0</td>\n",
       "    </tr>\n",
       "    <tr>\n",
       "      <th>sk1_classroom</th>\n",
       "      <td>71.0</td>\n",
       "      <td>5.246479</td>\n",
       "      <td>3.324190</td>\n",
       "      <td>0.0</td>\n",
       "      <td>2.15</td>\n",
       "      <td>6.0</td>\n",
       "      <td>8.0</td>\n",
       "      <td>10.0</td>\n",
       "    </tr>\n",
       "    <tr>\n",
       "      <th>sk2_classroom</th>\n",
       "      <td>71.0</td>\n",
       "      <td>5.078873</td>\n",
       "      <td>3.273396</td>\n",
       "      <td>0.0</td>\n",
       "      <td>2.05</td>\n",
       "      <td>5.7</td>\n",
       "      <td>8.0</td>\n",
       "      <td>10.0</td>\n",
       "    </tr>\n",
       "    <tr>\n",
       "      <th>sk5_classroom</th>\n",
       "      <td>71.0</td>\n",
       "      <td>4.788732</td>\n",
       "      <td>3.448252</td>\n",
       "      <td>0.0</td>\n",
       "      <td>0.50</td>\n",
       "      <td>5.0</td>\n",
       "      <td>8.0</td>\n",
       "      <td>10.0</td>\n",
       "    </tr>\n",
       "    <tr>\n",
       "      <th>sk3_classroom</th>\n",
       "      <td>71.0</td>\n",
       "      <td>5.445070</td>\n",
       "      <td>3.564459</td>\n",
       "      <td>0.0</td>\n",
       "      <td>1.15</td>\n",
       "      <td>6.7</td>\n",
       "      <td>8.0</td>\n",
       "      <td>10.0</td>\n",
       "    </tr>\n",
       "    <tr>\n",
       "      <th>sk4_classroom</th>\n",
       "      <td>71.0</td>\n",
       "      <td>6.878873</td>\n",
       "      <td>3.856198</td>\n",
       "      <td>0.0</td>\n",
       "      <td>4.50</td>\n",
       "      <td>8.7</td>\n",
       "      <td>9.6</td>\n",
       "      <td>10.0</td>\n",
       "    </tr>\n",
       "    <tr>\n",
       "      <th>Approved</th>\n",
       "      <td>71.0</td>\n",
       "      <td>0.704225</td>\n",
       "      <td>0.459639</td>\n",
       "      <td>0.0</td>\n",
       "      <td>0.00</td>\n",
       "      <td>1.0</td>\n",
       "      <td>1.0</td>\n",
       "      <td>1.0</td>\n",
       "    </tr>\n",
       "  </tbody>\n",
       "</table>\n",
       "</div>"
      ],
      "text/plain": [
       "                    count          mean           std  min      25%     50%  \\\n",
       "total_posts          71.0      5.507042      6.480461  0.0     2.00     4.0   \n",
       "helpful_post         71.0      4.028169      6.843082  0.0     0.00     3.0   \n",
       "nice_code_post       71.0      7.478873     12.746831  0.0     0.00     2.0   \n",
       "collaborative_post   71.0     11.366197     13.970622  0.0     1.50     7.0   \n",
       "confused_post        71.0      0.549296      1.350013  0.0     0.00     0.0   \n",
       "creative_post        71.0     18.309859     21.930795  0.0     6.50    14.0   \n",
       "bad_post             71.0      0.056338      0.287219  0.0     0.00     0.0   \n",
       "amazing_post         71.0     18.957746     22.086477  0.0     7.00    16.0   \n",
       "timeonline           71.0  10279.126761  10176.243372  0.0  1627.50  7664.0   \n",
       "sk1_classroom        71.0      5.246479      3.324190  0.0     2.15     6.0   \n",
       "sk2_classroom        71.0      5.078873      3.273396  0.0     2.05     5.7   \n",
       "sk5_classroom        71.0      4.788732      3.448252  0.0     0.50     5.0   \n",
       "sk3_classroom        71.0      5.445070      3.564459  0.0     1.15     6.7   \n",
       "sk4_classroom        71.0      6.878873      3.856198  0.0     4.50     8.7   \n",
       "Approved             71.0      0.704225      0.459639  0.0     0.00     1.0   \n",
       "\n",
       "                        75%      max  \n",
       "total_posts             7.5     46.0  \n",
       "helpful_post            5.5     53.0  \n",
       "nice_code_post         12.5     90.0  \n",
       "collaborative_post     16.0     89.0  \n",
       "confused_post           0.0      7.0  \n",
       "creative_post          24.0    150.0  \n",
       "bad_post                0.0      2.0  \n",
       "amazing_post           25.5    155.0  \n",
       "timeonline          16574.0  43612.0  \n",
       "sk1_classroom           8.0     10.0  \n",
       "sk2_classroom           8.0     10.0  \n",
       "sk5_classroom           8.0     10.0  \n",
       "sk3_classroom           8.0     10.0  \n",
       "sk4_classroom           9.6     10.0  \n",
       "Approved                1.0      1.0  "
      ]
     },
     "execution_count": 50,
     "metadata": {},
     "output_type": "execute_result"
    }
   ],
   "source": [
    "df.describe().transpose()"
   ]
  },
  {
   "cell_type": "code",
   "execution_count": 64,
   "metadata": {
    "scrolled": false
   },
   "outputs": [
    {
     "data": {
      "text/html": [
       "<div>\n",
       "<style scoped>\n",
       "    .dataframe tbody tr th:only-of-type {\n",
       "        vertical-align: middle;\n",
       "    }\n",
       "\n",
       "    .dataframe tbody tr th {\n",
       "        vertical-align: top;\n",
       "    }\n",
       "\n",
       "    .dataframe thead th {\n",
       "        text-align: right;\n",
       "    }\n",
       "</style>\n",
       "<table border=\"1\" class=\"dataframe\">\n",
       "  <thead>\n",
       "    <tr style=\"text-align: right;\">\n",
       "      <th></th>\n",
       "      <th>timeonline</th>\n",
       "      <th>total_posts</th>\n",
       "      <th>helpful_post</th>\n",
       "      <th>nice_code_post</th>\n",
       "      <th>collaborative_post</th>\n",
       "      <th>creative_post</th>\n",
       "      <th>bad_post</th>\n",
       "      <th>sk1_classroom</th>\n",
       "      <th>sk2_classroom</th>\n",
       "      <th>sk3_classroom</th>\n",
       "      <th>sk4_classroom</th>\n",
       "    </tr>\n",
       "  </thead>\n",
       "  <tbody>\n",
       "    <tr>\n",
       "      <th>timeonline</th>\n",
       "      <td>1.000000</td>\n",
       "      <td>0.698113</td>\n",
       "      <td>0.573440</td>\n",
       "      <td>0.605448</td>\n",
       "      <td>0.694439</td>\n",
       "      <td>0.690508</td>\n",
       "      <td>0.089735</td>\n",
       "      <td>0.634805</td>\n",
       "      <td>0.598068</td>\n",
       "      <td>0.634771</td>\n",
       "      <td>0.558211</td>\n",
       "    </tr>\n",
       "    <tr>\n",
       "      <th>total_posts</th>\n",
       "      <td>0.698113</td>\n",
       "      <td>1.000000</td>\n",
       "      <td>0.925181</td>\n",
       "      <td>0.907890</td>\n",
       "      <td>0.938350</td>\n",
       "      <td>0.960128</td>\n",
       "      <td>0.183985</td>\n",
       "      <td>0.564356</td>\n",
       "      <td>0.566671</td>\n",
       "      <td>0.515894</td>\n",
       "      <td>0.449873</td>\n",
       "    </tr>\n",
       "    <tr>\n",
       "      <th>helpful_post</th>\n",
       "      <td>0.573440</td>\n",
       "      <td>0.925181</td>\n",
       "      <td>1.000000</td>\n",
       "      <td>0.922716</td>\n",
       "      <td>0.897659</td>\n",
       "      <td>0.919296</td>\n",
       "      <td>0.188158</td>\n",
       "      <td>0.439232</td>\n",
       "      <td>0.436504</td>\n",
       "      <td>0.394106</td>\n",
       "      <td>0.341083</td>\n",
       "    </tr>\n",
       "    <tr>\n",
       "      <th>nice_code_post</th>\n",
       "      <td>0.605448</td>\n",
       "      <td>0.907890</td>\n",
       "      <td>0.922716</td>\n",
       "      <td>1.000000</td>\n",
       "      <td>0.873723</td>\n",
       "      <td>0.893558</td>\n",
       "      <td>0.164213</td>\n",
       "      <td>0.436876</td>\n",
       "      <td>0.442457</td>\n",
       "      <td>0.409675</td>\n",
       "      <td>0.337543</td>\n",
       "    </tr>\n",
       "    <tr>\n",
       "      <th>collaborative_post</th>\n",
       "      <td>0.694439</td>\n",
       "      <td>0.938350</td>\n",
       "      <td>0.897659</td>\n",
       "      <td>0.873723</td>\n",
       "      <td>1.000000</td>\n",
       "      <td>0.935743</td>\n",
       "      <td>0.215517</td>\n",
       "      <td>0.604051</td>\n",
       "      <td>0.599635</td>\n",
       "      <td>0.538386</td>\n",
       "      <td>0.461836</td>\n",
       "    </tr>\n",
       "    <tr>\n",
       "      <th>creative_post</th>\n",
       "      <td>0.690508</td>\n",
       "      <td>0.960128</td>\n",
       "      <td>0.919296</td>\n",
       "      <td>0.893558</td>\n",
       "      <td>0.935743</td>\n",
       "      <td>1.000000</td>\n",
       "      <td>0.242128</td>\n",
       "      <td>0.579853</td>\n",
       "      <td>0.572033</td>\n",
       "      <td>0.522333</td>\n",
       "      <td>0.450528</td>\n",
       "    </tr>\n",
       "    <tr>\n",
       "      <th>bad_post</th>\n",
       "      <td>0.089735</td>\n",
       "      <td>0.183985</td>\n",
       "      <td>0.188158</td>\n",
       "      <td>0.164213</td>\n",
       "      <td>0.215517</td>\n",
       "      <td>0.242128</td>\n",
       "      <td>1.000000</td>\n",
       "      <td>0.164798</td>\n",
       "      <td>0.115244</td>\n",
       "      <td>0.146791</td>\n",
       "      <td>0.021727</td>\n",
       "    </tr>\n",
       "    <tr>\n",
       "      <th>sk1_classroom</th>\n",
       "      <td>0.634805</td>\n",
       "      <td>0.564356</td>\n",
       "      <td>0.439232</td>\n",
       "      <td>0.436876</td>\n",
       "      <td>0.604051</td>\n",
       "      <td>0.579853</td>\n",
       "      <td>0.164798</td>\n",
       "      <td>1.000000</td>\n",
       "      <td>0.965278</td>\n",
       "      <td>0.946283</td>\n",
       "      <td>0.821142</td>\n",
       "    </tr>\n",
       "    <tr>\n",
       "      <th>sk2_classroom</th>\n",
       "      <td>0.598068</td>\n",
       "      <td>0.566671</td>\n",
       "      <td>0.436504</td>\n",
       "      <td>0.442457</td>\n",
       "      <td>0.599635</td>\n",
       "      <td>0.572033</td>\n",
       "      <td>0.115244</td>\n",
       "      <td>0.965278</td>\n",
       "      <td>1.000000</td>\n",
       "      <td>0.961807</td>\n",
       "      <td>0.828269</td>\n",
       "    </tr>\n",
       "    <tr>\n",
       "      <th>sk3_classroom</th>\n",
       "      <td>0.634771</td>\n",
       "      <td>0.515894</td>\n",
       "      <td>0.394106</td>\n",
       "      <td>0.409675</td>\n",
       "      <td>0.538386</td>\n",
       "      <td>0.522333</td>\n",
       "      <td>0.146791</td>\n",
       "      <td>0.946283</td>\n",
       "      <td>0.961807</td>\n",
       "      <td>1.000000</td>\n",
       "      <td>0.795503</td>\n",
       "    </tr>\n",
       "    <tr>\n",
       "      <th>sk4_classroom</th>\n",
       "      <td>0.558211</td>\n",
       "      <td>0.449873</td>\n",
       "      <td>0.341083</td>\n",
       "      <td>0.337543</td>\n",
       "      <td>0.461836</td>\n",
       "      <td>0.450528</td>\n",
       "      <td>0.021727</td>\n",
       "      <td>0.821142</td>\n",
       "      <td>0.828269</td>\n",
       "      <td>0.795503</td>\n",
       "      <td>1.000000</td>\n",
       "    </tr>\n",
       "  </tbody>\n",
       "</table>\n",
       "</div>"
      ],
      "text/plain": [
       "                    timeonline  total_posts  helpful_post  nice_code_post  \\\n",
       "timeonline            1.000000     0.698113      0.573440        0.605448   \n",
       "total_posts           0.698113     1.000000      0.925181        0.907890   \n",
       "helpful_post          0.573440     0.925181      1.000000        0.922716   \n",
       "nice_code_post        0.605448     0.907890      0.922716        1.000000   \n",
       "collaborative_post    0.694439     0.938350      0.897659        0.873723   \n",
       "creative_post         0.690508     0.960128      0.919296        0.893558   \n",
       "bad_post              0.089735     0.183985      0.188158        0.164213   \n",
       "sk1_classroom         0.634805     0.564356      0.439232        0.436876   \n",
       "sk2_classroom         0.598068     0.566671      0.436504        0.442457   \n",
       "sk3_classroom         0.634771     0.515894      0.394106        0.409675   \n",
       "sk4_classroom         0.558211     0.449873      0.341083        0.337543   \n",
       "\n",
       "                    collaborative_post  creative_post  bad_post  \\\n",
       "timeonline                    0.694439       0.690508  0.089735   \n",
       "total_posts                   0.938350       0.960128  0.183985   \n",
       "helpful_post                  0.897659       0.919296  0.188158   \n",
       "nice_code_post                0.873723       0.893558  0.164213   \n",
       "collaborative_post            1.000000       0.935743  0.215517   \n",
       "creative_post                 0.935743       1.000000  0.242128   \n",
       "bad_post                      0.215517       0.242128  1.000000   \n",
       "sk1_classroom                 0.604051       0.579853  0.164798   \n",
       "sk2_classroom                 0.599635       0.572033  0.115244   \n",
       "sk3_classroom                 0.538386       0.522333  0.146791   \n",
       "sk4_classroom                 0.461836       0.450528  0.021727   \n",
       "\n",
       "                    sk1_classroom  sk2_classroom  sk3_classroom  sk4_classroom  \n",
       "timeonline               0.634805       0.598068       0.634771       0.558211  \n",
       "total_posts              0.564356       0.566671       0.515894       0.449873  \n",
       "helpful_post             0.439232       0.436504       0.394106       0.341083  \n",
       "nice_code_post           0.436876       0.442457       0.409675       0.337543  \n",
       "collaborative_post       0.604051       0.599635       0.538386       0.461836  \n",
       "creative_post            0.579853       0.572033       0.522333       0.450528  \n",
       "bad_post                 0.164798       0.115244       0.146791       0.021727  \n",
       "sk1_classroom            1.000000       0.965278       0.946283       0.821142  \n",
       "sk2_classroom            0.965278       1.000000       0.961807       0.828269  \n",
       "sk3_classroom            0.946283       0.961807       1.000000       0.795503  \n",
       "sk4_classroom            0.821142       0.828269       0.795503       1.000000  "
      ]
     },
     "execution_count": 64,
     "metadata": {},
     "output_type": "execute_result"
    }
   ],
   "source": [
    "#\n",
    "var = ['timeonline','total_posts','helpful_post','nice_code_post','collaborative_post','creative_post','bad_post','sk1_classroom','sk2_classroom','sk3_classroom','sk4_classroom']\n",
    "df[var].corr()"
   ]
  },
  {
   "cell_type": "markdown",
   "metadata": {},
   "source": [
    "### Análise Exploratória dos Dados"
   ]
  },
  {
   "cell_type": "code",
   "execution_count": 58,
   "metadata": {},
   "outputs": [],
   "source": [
    "#Selecao de Features para encontrar qual a correlação entre as variáveis\n",
    "features = ['timeonline','total_posts','helpful_post','nice_code_post','creative_post','bad_post','sk1_classroom','sk2_classroom','sk3_classroom','sk4_classroom']"
   ]
  },
  {
   "cell_type": "code",
   "execution_count": 63,
   "metadata": {},
   "outputs": [
    {
     "data": {
      "image/png": "[encoded data removed]",
      "text/plain": [
       "<Figure size 720x720 with 2 Axes>"
      ]
     },
     "metadata": {
      "needs_background": "light"
     },
     "output_type": "display_data"
    }
   ],
   "source": [
    "%matplotlib inline\n",
    "#from matplotlib.pyplot import plt\n",
    "#import matplotlib.pylot as plt\n",
    "plt.figure(figsize=(10,10))\n",
    "sns.heatmap(df[features].corr(),annot=True,linewidths=0.5,linecolor='black',cmap='Blues')\n",
    "plt.xticks(rotation=90)\n",
    "plt.show()"
   ]
  },
  {
   "cell_type": "code",
   "execution_count": 59,
   "metadata": {},
   "outputs": [],
   "source": []
  },
  {
   "cell_type": "code",
   "execution_count": 47,
   "metadata": {},
   "outputs": [
    {
     "data": {
      "text/plain": [
       "<matplotlib.axes._subplots.AxesSubplot at 0x1dfb5e48c40>"
      ]
     },
     "execution_count": 47,
     "metadata": {},
     "output_type": "execute_result"
    },
    {
     "data": {
      "image/png": "[encoded data removed]",
      "text/plain": [
       "<Figure size 432x288 with 1 Axes>"
      ]
     },
     "metadata": {
      "needs_background": "light"
     },
     "output_type": "display_data"
    }
   ],
   "source": [
    "#Análise univariada.\n",
    "sns.countplot(df['Approved'])"
   ]
  },
  {
   "cell_type": "code",
   "execution_count": 48,
   "metadata": {},
   "outputs": [
    {
     "name": "stdout",
     "output_type": "stream",
     "text": [
      "NÃO: 21\n",
      "SIM: 50\n",
      "Proporção: 0.42 : 1\n"
     ]
    },
    {
     "data": {
      "text/plain": [
       "<matplotlib.axes._subplots.AxesSubplot at 0x1dfb603f760>"
      ]
     },
     "execution_count": 48,
     "metadata": {},
     "output_type": "execute_result"
    },
    {
     "data": {
      "image/png": "[encoded data removed]",
      "text/plain": [
       "<Figure size 432x288 with 1 Axes>"
      ]
     },
     "metadata": {
      "needs_background": "light"
     },
     "output_type": "display_data"
    }
   ],
   "source": [
    "import matplotlib.pyplot as plt\n",
    "atributo_classificador = df.Approved.value_counts()\n",
    "print('NÃO:', atributo_classificador[0])\n",
    "print('SIM:', atributo_classificador[1])\n",
    "\n",
    "print('Proporção:', round(atributo_classificador[0]/atributo_classificador[1], 2), ': 1')\n",
    "atributo_classificador.plot(kind='bar', title='Qtde (classificador)')"
   ]
  },
  {
   "cell_type": "code",
   "execution_count": 49,
   "metadata": {},
   "outputs": [
    {
     "data": {
      "text/plain": [
       "<matplotlib.axes._subplots.AxesSubplot at 0x1dfb692acd0>"
      ]
     },
     "execution_count": 49,
     "metadata": {},
     "output_type": "execute_result"
    },
    {
     "data": {
      "image/png": "[encoded data removed]",
      "text/plain": [
       "<Figure size 1440x288 with 1 Axes>"
      ]
     },
     "metadata": {
      "needs_background": "light"
     },
     "output_type": "display_data"
    }
   ],
   "source": [
    "#Univariate analysis target.\n",
    "#sns.countplot(df['timeonline'])\n",
    "#Univariate analysis age.\n",
    "f = plt.figure(figsize=(20,4))\n",
    "f.add_subplot(1,2,1)\n",
    "sns.distplot(df['timeonline'])\n",
    "#f.add_subplot(1,2,2)\n",
    "#sns.boxplot(df['timeonline'])\n"
   ]
  },
  {
   "cell_type": "code",
   "execution_count": 50,
   "metadata": {},
   "outputs": [
    {
     "data": {
      "text/plain": [
       "<matplotlib.axes._subplots.AxesSubplot at 0x1dfb5cd7400>"
      ]
     },
     "execution_count": 50,
     "metadata": {},
     "output_type": "execute_result"
    },
    {
     "data": {
      "image/png": "[encoded data removed]",
      "text/plain": [
       "<Figure size 1440x288 with 2 Axes>"
      ]
     },
     "metadata": {
      "needs_background": "light"
     },
     "output_type": "display_data"
    }
   ],
   "source": [
    "f = plt.figure(figsize=(20,4))\n",
    "f.add_subplot(1,2,1)\n",
    "sns.distplot(df['sk1_classroom'])\n",
    "\n",
    "f.add_subplot(1,2,2)\n",
    "sns.distplot(df['sk2_classroom'])\n",
    "\n",
    "#f.add_subplot(1,2,3)\n",
    "#sns.distplot(df['sk3_classroom'])"
   ]
  },
  {
   "cell_type": "code",
   "execution_count": 51,
   "metadata": {},
   "outputs": [
    {
     "data": {
      "text/plain": [
       "<matplotlib.axes._subplots.AxesSubplot at 0x1dfb63160d0>"
      ]
     },
     "execution_count": 51,
     "metadata": {},
     "output_type": "execute_result"
    },
    {
     "data": {
      "image/png": "[encoded data removed]",
      "text/plain": [
       "<Figure size 1440x288 with 2 Axes>"
      ]
     },
     "metadata": {
      "needs_background": "light"
     },
     "output_type": "display_data"
    }
   ],
   "source": [
    "f = plt.figure(figsize=(20,4))\n",
    "f.add_subplot(1,2,1)\n",
    "sns.distplot(df['sk3_classroom'])\n",
    "\n",
    "f.add_subplot(1,2,2)\n",
    "sns.distplot(df['sk4_classroom'])\n"
   ]
  },
  {
   "cell_type": "code",
   "execution_count": 52,
   "metadata": {},
   "outputs": [
    {
     "data": {
      "text/plain": [
       "<matplotlib.axes._subplots.AxesSubplot at 0x1dfb63a2af0>"
      ]
     },
     "execution_count": 52,
     "metadata": {},
     "output_type": "execute_result"
    },
    {
     "data": {
      "image/png": "[encoded data removed]",
      "text/plain": [
       "<Figure size 1440x288 with 1 Axes>"
      ]
     },
     "metadata": {
      "needs_background": "light"
     },
     "output_type": "display_data"
    }
   ],
   "source": [
    "f = plt.figure(figsize=(20,4))\n",
    "f.add_subplot(1,2,1)\n",
    "sns.distplot(df['sk5_classroom'])"
   ]
  },
  {
   "cell_type": "code",
   "execution_count": 14,
   "metadata": {},
   "outputs": [
    {
     "ename": "TypeError",
     "evalue": "`Series.plot()` should not be called with positional arguments, only keyword arguments. The order of positional arguments will change in the future. Use `Series.plot(kind='bar')` instead of `Series.plot('bar',)`.",
     "output_type": "error",
     "traceback": [
      "\u001b[0;31m---------------------------------------------------------------------------\u001b[0m",
      "\u001b[0;31mTypeError\u001b[0m                                 Traceback (most recent call last)",
      "\u001b[0;32m<ipython-input-14-ed996d9e94d5>\u001b[0m in \u001b[0;36m<module>\u001b[0;34m\u001b[0m\n\u001b[1;32m      5\u001b[0m \u001b[0;34m\u001b[0m\u001b[0m\n\u001b[1;32m      6\u001b[0m \u001b[0mf\u001b[0m\u001b[0;34m.\u001b[0m\u001b[0madd_subplot\u001b[0m\u001b[0;34m(\u001b[0m\u001b[0;36m1\u001b[0m\u001b[0;34m,\u001b[0m\u001b[0;36m2\u001b[0m\u001b[0;34m,\u001b[0m\u001b[0;36m1\u001b[0m\u001b[0;34m)\u001b[0m\u001b[0;34m\u001b[0m\u001b[0;34m\u001b[0m\u001b[0m\n\u001b[0;32m----> 7\u001b[0;31m \u001b[0mdf\u001b[0m\u001b[0;34m[\u001b[0m\u001b[0;34m'sk1_classroom'\u001b[0m\u001b[0;34m]\u001b[0m\u001b[0;34m.\u001b[0m\u001b[0mvalue_counts\u001b[0m\u001b[0;34m(\u001b[0m\u001b[0;34m)\u001b[0m\u001b[0;34m.\u001b[0m\u001b[0mplot\u001b[0m\u001b[0;34m(\u001b[0m\u001b[0;34m'bar'\u001b[0m\u001b[0;34m,\u001b[0m \u001b[0mcolor\u001b[0m\u001b[0;34m=\u001b[0m\u001b[0;34m'red'\u001b[0m\u001b[0;34m)\u001b[0m\u001b[0;34m\u001b[0m\u001b[0;34m\u001b[0m\u001b[0m\n\u001b[0m\u001b[1;32m      8\u001b[0m \u001b[0;34m\u001b[0m\u001b[0m\n\u001b[1;32m      9\u001b[0m \u001b[0mf\u001b[0m\u001b[0;34m.\u001b[0m\u001b[0madd_subplot\u001b[0m\u001b[0;34m(\u001b[0m\u001b[0;36m1\u001b[0m\u001b[0;34m,\u001b[0m\u001b[0;36m2\u001b[0m\u001b[0;34m,\u001b[0m\u001b[0;36m2\u001b[0m\u001b[0;34m)\u001b[0m\u001b[0;34m\u001b[0m\u001b[0;34m\u001b[0m\u001b[0m\n",
      "\u001b[0;32m~/opt/anaconda3/lib/python3.7/site-packages/pandas/plotting/_core.py\u001b[0m in \u001b[0;36m__call__\u001b[0;34m(self, *args, **kwargs)\u001b[0m\n\u001b[1;32m    768\u001b[0m \u001b[0;34m\u001b[0m\u001b[0m\n\u001b[1;32m    769\u001b[0m         x, y, kind, kwargs = self._get_call_args(\n\u001b[0;32m--> 770\u001b[0;31m             \u001b[0mplot_backend\u001b[0m\u001b[0;34m.\u001b[0m\u001b[0m__name__\u001b[0m\u001b[0;34m,\u001b[0m \u001b[0mself\u001b[0m\u001b[0;34m.\u001b[0m\u001b[0m_parent\u001b[0m\u001b[0;34m,\u001b[0m \u001b[0margs\u001b[0m\u001b[0;34m,\u001b[0m \u001b[0mkwargs\u001b[0m\u001b[0;34m\u001b[0m\u001b[0;34m\u001b[0m\u001b[0m\n\u001b[0m\u001b[1;32m    771\u001b[0m         )\n\u001b[1;32m    772\u001b[0m \u001b[0;34m\u001b[0m\u001b[0m\n",
      "\u001b[0;32m~/opt/anaconda3/lib/python3.7/site-packages/pandas/plotting/_core.py\u001b[0m in \u001b[0;36m_get_call_args\u001b[0;34m(backend_name, data, args, kwargs)\u001b[0m\n\u001b[1;32m    751\u001b[0m                 \u001b[0;34mf\"`Series.plot({positional_args})`.\"\u001b[0m\u001b[0;34m\u001b[0m\u001b[0;34m\u001b[0m\u001b[0m\n\u001b[1;32m    752\u001b[0m             )\n\u001b[0;32m--> 753\u001b[0;31m             \u001b[0;32mraise\u001b[0m \u001b[0mTypeError\u001b[0m\u001b[0;34m(\u001b[0m\u001b[0mmsg\u001b[0m\u001b[0;34m)\u001b[0m\u001b[0;34m\u001b[0m\u001b[0;34m\u001b[0m\u001b[0m\n\u001b[0m\u001b[1;32m    754\u001b[0m \u001b[0;34m\u001b[0m\u001b[0m\n\u001b[1;32m    755\u001b[0m         \u001b[0mpos_args\u001b[0m \u001b[0;34m=\u001b[0m \u001b[0;34m{\u001b[0m\u001b[0mname\u001b[0m\u001b[0;34m:\u001b[0m \u001b[0mvalue\u001b[0m \u001b[0;32mfor\u001b[0m \u001b[0mvalue\u001b[0m\u001b[0;34m,\u001b[0m \u001b[0;34m(\u001b[0m\u001b[0mname\u001b[0m\u001b[0;34m,\u001b[0m \u001b[0m_\u001b[0m\u001b[0;34m)\u001b[0m \u001b[0;32min\u001b[0m \u001b[0mzip\u001b[0m\u001b[0;34m(\u001b[0m\u001b[0margs\u001b[0m\u001b[0;34m,\u001b[0m \u001b[0marg_def\u001b[0m\u001b[0;34m)\u001b[0m\u001b[0;34m}\u001b[0m\u001b[0;34m\u001b[0m\u001b[0;34m\u001b[0m\u001b[0m\n",
      "\u001b[0;31mTypeError\u001b[0m: `Series.plot()` should not be called with positional arguments, only keyword arguments. The order of positional arguments will change in the future. Use `Series.plot(kind='bar')` instead of `Series.plot('bar',)`."
     ]
    },
    {
     "data": {
      "image/png": "[encoded data removed]",
      "text/plain": [
       "<Figure size 1440x288 with 1 Axes>"
      ]
     },
     "metadata": {
      "needs_background": "light"
     },
     "output_type": "display_data"
    }
   ],
   "source": [
    "#Univariate analysis ca number of major vessels (0-3) colored by flourosopy.\n",
    "#Univariate analysis thal.\n",
    "\n",
    "f = plt.figure(figsize=(20,4))\n",
    "\n",
    "f.add_subplot(1,2,1)\n",
    "df['sk1_classroom'].value_counts().plot('bar', color='red')\n",
    "\n",
    "f.add_subplot(1,2,2)\n",
    "df['sk2_classroom'].value_counts().plot('bar', color='green')"
   ]
  },
  {
   "cell_type": "code",
   "execution_count": 15,
   "metadata": {},
   "outputs": [
    {
     "data": {
      "text/html": [
       "<div>\n",
       "<style scoped>\n",
       "    .dataframe tbody tr th:only-of-type {\n",
       "        vertical-align: middle;\n",
       "    }\n",
       "\n",
       "    .dataframe tbody tr th {\n",
       "        vertical-align: top;\n",
       "    }\n",
       "\n",
       "    .dataframe thead th {\n",
       "        text-align: right;\n",
       "    }\n",
       "</style>\n",
       "<table border=\"1\" class=\"dataframe\">\n",
       "  <thead>\n",
       "    <tr style=\"text-align: right;\">\n",
       "      <th></th>\n",
       "      <th>total_posts</th>\n",
       "      <th>helpful_post</th>\n",
       "      <th>nice_code_post</th>\n",
       "      <th>collaborative_post</th>\n",
       "      <th>confused_post</th>\n",
       "      <th>creative_post</th>\n",
       "      <th>bad_post</th>\n",
       "      <th>amazing_post</th>\n",
       "      <th>timeonline</th>\n",
       "      <th>sk1_classroom</th>\n",
       "      <th>sk2_classroom</th>\n",
       "      <th>sk5_classroom</th>\n",
       "      <th>sk3_classroom</th>\n",
       "      <th>sk4_classroom</th>\n",
       "      <th>Approved</th>\n",
       "    </tr>\n",
       "  </thead>\n",
       "  <tbody>\n",
       "    <tr>\n",
       "      <th>0</th>\n",
       "      <td>1</td>\n",
       "      <td>0</td>\n",
       "      <td>0</td>\n",
       "      <td>0</td>\n",
       "      <td>0</td>\n",
       "      <td>6</td>\n",
       "      <td>0</td>\n",
       "      <td>1</td>\n",
       "      <td>1600</td>\n",
       "      <td>2.1</td>\n",
       "      <td>2.4</td>\n",
       "      <td>3.5</td>\n",
       "      <td>3.6</td>\n",
       "      <td>1.7</td>\n",
       "      <td>0</td>\n",
       "    </tr>\n",
       "    <tr>\n",
       "      <th>1</th>\n",
       "      <td>1</td>\n",
       "      <td>0</td>\n",
       "      <td>0</td>\n",
       "      <td>1</td>\n",
       "      <td>0</td>\n",
       "      <td>2</td>\n",
       "      <td>0</td>\n",
       "      <td>3</td>\n",
       "      <td>592</td>\n",
       "      <td>0.3</td>\n",
       "      <td>0.3</td>\n",
       "      <td>0.0</td>\n",
       "      <td>0.1</td>\n",
       "      <td>0.2</td>\n",
       "      <td>0</td>\n",
       "    </tr>\n",
       "    <tr>\n",
       "      <th>2</th>\n",
       "      <td>2</td>\n",
       "      <td>4</td>\n",
       "      <td>3</td>\n",
       "      <td>9</td>\n",
       "      <td>0</td>\n",
       "      <td>16</td>\n",
       "      <td>1</td>\n",
       "      <td>8</td>\n",
       "      <td>1110</td>\n",
       "      <td>8.0</td>\n",
       "      <td>5.0</td>\n",
       "      <td>5.0</td>\n",
       "      <td>7.0</td>\n",
       "      <td>5.0</td>\n",
       "      <td>1</td>\n",
       "    </tr>\n",
       "    <tr>\n",
       "      <th>3</th>\n",
       "      <td>5</td>\n",
       "      <td>1</td>\n",
       "      <td>3</td>\n",
       "      <td>9</td>\n",
       "      <td>2</td>\n",
       "      <td>11</td>\n",
       "      <td>0</td>\n",
       "      <td>8</td>\n",
       "      <td>8651</td>\n",
       "      <td>6.0</td>\n",
       "      <td>5.0</td>\n",
       "      <td>4.0</td>\n",
       "      <td>6.0</td>\n",
       "      <td>4.0</td>\n",
       "      <td>1</td>\n",
       "    </tr>\n",
       "    <tr>\n",
       "      <th>4</th>\n",
       "      <td>14</td>\n",
       "      <td>6</td>\n",
       "      <td>15</td>\n",
       "      <td>28</td>\n",
       "      <td>0</td>\n",
       "      <td>50</td>\n",
       "      <td>0</td>\n",
       "      <td>45</td>\n",
       "      <td>34172</td>\n",
       "      <td>8.7</td>\n",
       "      <td>9.0</td>\n",
       "      <td>6.5</td>\n",
       "      <td>10.0</td>\n",
       "      <td>8.8</td>\n",
       "      <td>1</td>\n",
       "    </tr>\n",
       "  </tbody>\n",
       "</table>\n",
       "</div>"
      ],
      "text/plain": [
       "   total_posts  helpful_post  nice_code_post  collaborative_post  \\\n",
       "0            1             0               0                   0   \n",
       "1            1             0               0                   1   \n",
       "2            2             4               3                   9   \n",
       "3            5             1               3                   9   \n",
       "4           14             6              15                  28   \n",
       "\n",
       "   confused_post  creative_post  bad_post  amazing_post  timeonline  \\\n",
       "0              0              6         0             1        1600   \n",
       "1              0              2         0             3         592   \n",
       "2              0             16         1             8        1110   \n",
       "3              2             11         0             8        8651   \n",
       "4              0             50         0            45       34172   \n",
       "\n",
       "   sk1_classroom  sk2_classroom  sk5_classroom  sk3_classroom  sk4_classroom  \\\n",
       "0            2.1            2.4            3.5            3.6            1.7   \n",
       "1            0.3            0.3            0.0            0.1            0.2   \n",
       "2            8.0            5.0            5.0            7.0            5.0   \n",
       "3            6.0            5.0            4.0            6.0            4.0   \n",
       "4            8.7            9.0            6.5           10.0            8.8   \n",
       "\n",
       "   Approved  \n",
       "0         0  \n",
       "1         0  \n",
       "2         1  \n",
       "3         1  \n",
       "4         1  "
      ]
     },
     "execution_count": 15,
     "metadata": {},
     "output_type": "execute_result"
    }
   ],
   "source": [
    "df.head()"
   ]
  },
  {
   "cell_type": "code",
   "execution_count": 16,
   "metadata": {},
   "outputs": [],
   "source": [
    "labels = df.columns[:-1]\n",
    "X = df[labels]\n",
    "y = df['Approved']"
   ]
  },
  {
   "cell_type": "code",
   "execution_count": 17,
   "metadata": {},
   "outputs": [],
   "source": [
    "#Separação de dados de Treino e Teste\n",
    "from sklearn.model_selection import train_test_split\n",
    "#Separação de 70% dos Dados para treino e 30% para teste\n",
    "X_train, X_test, y_train, y_test = train_test_split(X,y,test_size=0.4)"
   ]
  },
  {
   "cell_type": "code",
   "execution_count": 18,
   "metadata": {},
   "outputs": [],
   "source": [
    "#KNNNNNNNNNNNNNNNNNNNNN"
   ]
  },
  {
   "cell_type": "code",
   "execution_count": 19,
   "metadata": {},
   "outputs": [],
   "source": [
    "labels = df.columns[:-1]\n",
    "X = df[labels]\n",
    "y = df['Approved']"
   ]
  },
  {
   "cell_type": "code",
   "execution_count": 20,
   "metadata": {},
   "outputs": [],
   "source": [
    "#Separação de 70% dos Dados para treino e 30% para teste\n",
    "from sklearn.model_selection import train_test_split\n",
    "\n",
    "X_train, X_test, y_train, y_test = train_test_split(X,y,test_size=0.40)"
   ]
  },
  {
   "cell_type": "code",
   "execution_count": 21,
   "metadata": {},
   "outputs": [],
   "source": [
    "#Criação de KNN com K=3;\n",
    "from sklearn.neighbors import KNeighborsClassifier\n",
    "knn = KNeighborsClassifier(n_neighbors=3)"
   ]
  },
  {
   "cell_type": "code",
   "execution_count": 22,
   "metadata": {},
   "outputs": [
    {
     "data": {
      "text/plain": [
       "KNeighborsClassifier(n_neighbors=3)"
      ]
     },
     "execution_count": 22,
     "metadata": {},
     "output_type": "execute_result"
    }
   ],
   "source": [
    "#Treinamento do modelo KNN;\n",
    "knn.fit(X_train,y_train)"
   ]
  },
  {
   "cell_type": "code",
   "execution_count": 23,
   "metadata": {},
   "outputs": [],
   "source": [
    "resultado = knn.predict(X_test)"
   ]
  },
  {
   "cell_type": "code",
   "execution_count": 24,
   "metadata": {},
   "outputs": [
    {
     "name": "stdout",
     "output_type": "stream",
     "text": [
      "              precision    recall  f1-score   support\n",
      "\n",
      "           0       0.57      0.89      0.70         9\n",
      "           1       0.93      0.70      0.80        20\n",
      "\n",
      "    accuracy                           0.76        29\n",
      "   macro avg       0.75      0.79      0.75        29\n",
      "weighted avg       0.82      0.76      0.77        29\n",
      "\n"
     ]
    }
   ],
   "source": [
    "#Verificação de Acurácia e Overfiting\n",
    "from sklearn import metrics\n",
    "print(metrics.classification_report(y_test,resultado))"
   ]
  },
  {
   "cell_type": "code",
   "execution_count": 25,
   "metadata": {},
   "outputs": [
    {
     "data": {
      "text/plain": [
       "array([0.8       , 0.78571429, 0.85714286, 0.78571429, 0.85714286])"
      ]
     },
     "execution_count": 25,
     "metadata": {},
     "output_type": "execute_result"
    }
   ],
   "source": [
    "#Verificação de Acurácia e Overfiting\n",
    "from sklearn.model_selection import cross_val_score\n",
    "scores = cross_val_score(knn, df.drop('Approved',axis=1),df['Approved'], cv=5)\n",
    "scores"
   ]
  },
  {
   "cell_type": "code",
   "execution_count": null,
   "metadata": {},
   "outputs": [
    {
     "name": "stdout",
     "output_type": "stream",
     "text": [
      "Automatically created module for IPython interactive environment\n"
     ]
    }
   ],
   "source": [
    "print(__doc__)\n",
    "\n",
    "import numpy as np\n",
    "import matplotlib.pyplot as plt\n",
    "from matplotlib.colors import ListedColormap\n",
    "from sklearn import neighbors, datasets\n",
    "\n",
    "n_neighbors = 5\n",
    "\n",
    "# we only take the first two features. We could avoid this ugly\n",
    "# slicing by using a two-dim dataset\n",
    "\n",
    "X = df[['timeonline','sk4_classroom']].values\n",
    "#y = le.fit_transform(ds['Approved'])\n",
    "y = df['Approved']\n",
    "h = .02  # step size in the mesh\n",
    "\n",
    "# Create color maps\n",
    "cmap_light = ListedColormap(['orange', 'cyan', 'cornflowerblue'])\n",
    "cmap_bold = ListedColormap(['darkorange', 'c', 'darkblue'])\n",
    "\n",
    "for weights in ['distance']:\n",
    "    # we create an instance of Neighbours Classifier and fit the data.\n",
    "    clf = neighbors.KNeighborsClassifier(n_neighbors, weights=weights)\n",
    "    clf.fit(X, y)\n",
    "\n",
    "    # Plot the decision boundary. For that, we will assign a color to each\n",
    "    # point in the mesh [x_min, x_max]x[y_min, y_max].\n",
    "    x_min, x_max = X[:, 0].min() - 1, X[:, 0].max() + 1\n",
    "    y_min, y_max = X[:, 1].min() - 1, X[:, 1].max() + 1\n",
    "    xx, yy = np.meshgrid(np.arange(x_min, x_max, h),\n",
    "                         np.arange(y_min, y_max, h))\n",
    "    Z = clf.predict(np.c_[xx.ravel(), yy.ravel()])\n",
    "\n",
    "    # Put the result into a color plot\n",
    "    Z = Z.reshape(xx.shape)\n",
    "    plt.figure(figsize=(25,13))\n",
    "    plt.pcolormesh(xx, yy, Z, cmap=cmap_light)\n",
    "\n",
    "    # Plot also the training points\n",
    "    plt.scatter(X[:, 0], X[:, 1], c=y, cmap=cmap_bold,\n",
    "                edgecolor='k', s=20)\n",
    "    plt.xlim(xx.min(), xx.max())\n",
    "    plt.ylim(yy.min(), yy.max())\n",
    "    plt.title(\"2-Class classification (k = %i, weights = '%s')\"\n",
    "              % (n_neighbors, weights))\n",
    "\n",
    "plt.show()"
   ]
  },
  {
   "cell_type": "code",
   "execution_count": null,
   "metadata": {},
   "outputs": [],
   "source": [
    "#Mencari nilai korelasi antar features.\n",
    "df.corr().style.background_gradient().set_precision(2)"
   ]
  },
  {
   "cell_type": "code",
   "execution_count": null,
   "metadata": {},
   "outputs": [],
   "source": [
    "#List Hyperparameters that we want to tune.\n",
    "leaf_size = list(range(1,50))\n",
    "n_neighbors = list(range(1,30))\n",
    "p=[1,2]"
   ]
  },
  {
   "cell_type": "code",
   "execution_count": null,
   "metadata": {},
   "outputs": [],
   "source": [
    "#Convert to dictionary\n",
    "hyperparameters = dict(leaf_size=leaf_size, n_neighbors=n_neighbors, p=p)"
   ]
  },
  {
   "cell_type": "code",
   "execution_count": null,
   "metadata": {},
   "outputs": [],
   "source": [
    "#Create new KNN object\n",
    "knn_2 = KNeighborsClassifier()"
   ]
  },
  {
   "cell_type": "code",
   "execution_count": null,
   "metadata": {},
   "outputs": [],
   "source": [
    "#Use GridSearch\n",
    "clf = GridSearchCV(knn_2, hyperparameters, cv=10)"
   ]
  },
  {
   "cell_type": "code",
   "execution_count": null,
   "metadata": {},
   "outputs": [],
   "source": [
    "#Fit the model\n",
    "best_model = clf.fit(x,y)"
   ]
  },
  {
   "cell_type": "code",
   "execution_count": null,
   "metadata": {},
   "outputs": [],
   "source": [
    "#Print The value of best Hyperparameters\n",
    "print('Best leaf_size:', best_model.best_estimator_.get_params()['leaf_size'])\n",
    "print('Best p:', best_model.best_estimator_.get_params()['p'])\n",
    "print('Best n_neighbors:', best_model.best_estimator_.get_params()['n_neighbors'])"
   ]
  },
  {
   "cell_type": "code",
   "execution_count": null,
   "metadata": {},
   "outputs": [],
   "source": []
  }
 ],
 "metadata": {
  "kernelspec": {
   "display_name": "Python 3",
   "language": "python",
   "name": "python3"
  },
  "language_info": {
   "codemirror_mode": {
    "name": "ipython",
    "version": 3
   },
   "file_extension": ".py",
   "mimetype": "text/x-python",
   "name": "python",
   "nbconvert_exporter": "python",
   "pygments_lexer": "ipython3",
   "version": "3.7.6"
  }
 },
 "nbformat": 4,
 "nbformat_minor": 4
}
